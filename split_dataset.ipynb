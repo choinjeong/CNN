{
 "cells": [
  {
   "cell_type": "code",
   "execution_count": 1,
   "metadata": {},
   "outputs": [],
   "source": [
    "import os\n",
    "from glob import glob\n",
    "import shutil\n",
    "from sklearn.model_selection import train_test_split"
   ]
  },
  {
   "cell_type": "code",
   "execution_count": 2,
   "metadata": {},
   "outputs": [],
   "source": [
    "def batch_move_files(file_list, source_path, destination_path):\n",
    "    for file in file_list:\n",
    "        image = file.split('/')[-1] + '.jpg'\n",
    "        shutil.copyfile(os.path.join(source_path, image), os.path.join(destination_path, image))\n",
    "        \n",
    "    return"
   ]
  },
  {
   "cell_type": "code",
   "execution_count": 8,
   "metadata": {},
   "outputs": [],
   "source": [
    "# 폴더 생성\n",
    "def createFolder(dir):\n",
    "    try:\n",
    "        if not os.path.exists(dir):\n",
    "            os.makedirs(dir)\n",
    "    except OSError:\n",
    "        print('Error')"
   ]
  },
  {
   "cell_type": "code",
   "execution_count": 10,
   "metadata": {},
   "outputs": [],
   "source": [
    "# ls = ['Bedroom', 'Kitchen', 'Dinning', 'Livingroom']\n",
    "# ls = ['주방식탁', '거실인테리어', '화장실인테리어', '부엌인테리어']\n",
    "ls = ['거실인테리어', '화장실인테리어', '부엌인테리어']\n",
    "\n",
    "for i in ls:\n",
    "    image_files = glob(f'dataset/{i}/*.jpg')\n",
    "    images = [name.replace('.jpg', '') for name in image_files]\n",
    "    train_names, test_names = train_test_split(images, test_size=0.2, random_state=42, shuffle=True)\n",
    "\n",
    "    source_dir = f'dataset/{i}/'\n",
    "    train_dir = f'train_dataset/{i}/'\n",
    "    test_dir = f'test_dataset/{i}/'\n",
    "    \n",
    "    # 폴더 생성\n",
    "    \n",
    "    createFolder(f'train_dataset/{i}')\n",
    "    createFolder(f'test_dataset/{i}')\n",
    "\n",
    "    batch_move_files(train_names, source_dir, train_dir)\n",
    "    batch_move_files(test_names, source_dir, test_dir)"
   ]
  },
  {
   "cell_type": "code",
   "execution_count": null,
   "metadata": {},
   "outputs": [],
   "source": []
  }
 ],
 "metadata": {
  "kernelspec": {
   "display_name": "cho_3_9",
   "language": "python",
   "name": "python3"
  },
  "language_info": {
   "codemirror_mode": {
    "name": "ipython",
    "version": 3
   },
   "file_extension": ".py",
   "mimetype": "text/x-python",
   "name": "python",
   "nbconvert_exporter": "python",
   "pygments_lexer": "ipython3",
   "version": "3.9.17"
  },
  "orig_nbformat": 4
 },
 "nbformat": 4,
 "nbformat_minor": 2
}
