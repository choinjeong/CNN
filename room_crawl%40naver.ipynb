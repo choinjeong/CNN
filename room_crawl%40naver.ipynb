{
 "cells": [
  {
   "cell_type": "code",
   "execution_count": 85,
   "metadata": {},
   "outputs": [],
   "source": [
    "from selenium import webdriver\n",
    "from selenium.webdriver.common.keys import Keys\n",
    "from selenium.webdriver.common.by import By\n",
    "import time\n",
    "import urllib.request\n",
    "import os\n",
    "import ssl\n",
    "from urllib import parse\n",
    "from bs4 import BeautifulSoup"
   ]
  },
  {
   "cell_type": "code",
   "execution_count": null,
   "metadata": {},
   "outputs": [],
   "source": [
    "import ssl\n",
    "\n",
    "ssl._create_default_https_context = ssl._create_unverified_context"
   ]
  },
  {
   "cell_type": "code",
   "execution_count": 142,
   "metadata": {},
   "outputs": [],
   "source": [
    "# 검색쿼리\n",
    "searchKey = input('검색할 키워드 입력 : ')"
   ]
  },
  {
   "cell_type": "code",
   "execution_count": 143,
   "metadata": {},
   "outputs": [],
   "source": [
    "context = ssl._create_unverified_context()\n",
    "\n",
    "url = 'https://search.naver.com/search.naver?where=image&sm=tab_jum&query='\n",
    "newUrl = url + parse.quote_plus(searchKey)\n",
    "\n",
    "html = urllib.request.urlopen(newUrl, context = context).read()\n",
    "soup = BeautifulSoup(html, 'html.parser')\n",
    "# photowall = html.find('div', {'class' : 'photowall'})"
   ]
  },
  {
   "cell_type": "code",
   "execution_count": 144,
   "metadata": {},
   "outputs": [],
   "source": [
    "# 폴더 생성\n",
    "def createFolder(dir):\n",
    "    try:\n",
    "        if not os.path.exists(dir):\n",
    "            os.makedirs(dir)\n",
    "    except OSError:\n",
    "        print('Error')\n",
    "\n",
    "createFolder(f'train_dataset/{searchKey}')"
   ]
  },
  {
   "cell_type": "code",
   "execution_count": 145,
   "metadata": {},
   "outputs": [],
   "source": [
    "driver = webdriver.Chrome()\n",
    "driver.get(f'https://search.naver.com/search.naver?where=image&sm=tab_jum&query={searchKey}')"
   ]
  },
  {
   "cell_type": "code",
   "execution_count": 146,
   "metadata": {},
   "outputs": [],
   "source": [
    "# 이미지 스크롤링\n",
    "# 스크롤 최대로 내렸을 때 마땅한 구분할 class가 존재하지 않음 --> 개수로 제한\n",
    "for i in range(10):\n",
    "\n",
    "    driver.execute_script('window.scrollTo(0, document.body.scrollHeight);') # 브라우저 끝까지 스크롤\n",
    "    time.sleep(1) # 쉬어주기\n"
   ]
  },
  {
   "cell_type": "code",
   "execution_count": 147,
   "metadata": {},
   "outputs": [
    {
     "name": "stdout",
     "output_type": "stream",
     "text": [
      "Error :  HTTP Error 404: Not Found\n",
      "--1번째 이미지 저장 완료--\n",
      "Error :  HTTP Error 404: Not Found\n",
      "--2번째 이미지 저장 완료--\n",
      "--3번째 이미지 저장 완료--\n",
      "--4번째 이미지 저장 완료--\n",
      "--5번째 이미지 저장 완료--\n",
      "--6번째 이미지 저장 완료--\n",
      "--7번째 이미지 저장 완료--\n",
      "--8번째 이미지 저장 완료--\n",
      "Error :  HTTP Error 404: Not Found\n",
      "--9번째 이미지 저장 완료--\n",
      "--10번째 이미지 저장 완료--\n",
      "Error :  HTTP Error 404: Not Found\n",
      "--11번째 이미지 저장 완료--\n",
      "--12번째 이미지 저장 완료--\n",
      "Error :  HTTP Error 404: Not Found\n",
      "--13번째 이미지 저장 완료--\n",
      "Error :  HTTP Error 404: Not Found\n",
      "--14번째 이미지 저장 완료--\n",
      "--15번째 이미지 저장 완료--\n",
      "--16번째 이미지 저장 완료--\n",
      "--17번째 이미지 저장 완료--\n",
      "--18번째 이미지 저장 완료--\n",
      "--19번째 이미지 저장 완료--\n",
      "--20번째 이미지 저장 완료--\n",
      "Error :  HTTP Error 404: Not Found\n",
      "--21번째 이미지 저장 완료--\n",
      "--22번째 이미지 저장 완료--\n",
      "--23번째 이미지 저장 완료--\n",
      "Error :  HTTP Error 404: Not Found\n",
      "--24번째 이미지 저장 완료--\n",
      "Error :  HTTP Error 404: Not Found\n",
      "--25번째 이미지 저장 완료--\n",
      "--26번째 이미지 저장 완료--\n",
      "--27번째 이미지 저장 완료--\n",
      "--28번째 이미지 저장 완료--\n",
      "--29번째 이미지 저장 완료--\n",
      "--30번째 이미지 저장 완료--\n",
      "--31번째 이미지 저장 완료--\n",
      "--32번째 이미지 저장 완료--\n",
      "--33번째 이미지 저장 완료--\n",
      "--34번째 이미지 저장 완료--\n",
      "--35번째 이미지 저장 완료--\n",
      "--36번째 이미지 저장 완료--\n",
      "Error :  HTTP Error 404: Not Found\n",
      "--37번째 이미지 저장 완료--\n",
      "--38번째 이미지 저장 완료--\n"
     ]
    }
   ],
   "source": [
    "# 이미지 수집 및 저장\n",
    "images = driver.find_elements(By.CSS_SELECTOR, \"._image._listImage\") # 각 이미지들의 class. 앞에 '.' 붙이기\n",
    "count = 1\n",
    "for image in images:\n",
    "    try:\n",
    "        image.click()\n",
    "        time.sleep(0.5)\n",
    "        imgUrl = driver.find_element(By.XPATH,\n",
    "            '//*[@id=\"main_pack\"]/section[2]/div/div[2]/div/div/div[1]/div[1]/div/div/div[1]/div[1]/img').get_attribute(\"src\")\n",
    "        imgUrl = imgUrl.replace('https', 'http') # https로 요청할 경우 보안 문제로 SSL에러가 남\n",
    "        opener = urllib.request.build_opener()\n",
    "        opener.addheaders = [('User-Agent', 'Mozilla/5.0')] # https://docs.python.org/3/library/urllib.request.html 참고\n",
    "        urllib.request.install_opener(opener)\n",
    "        urllib.request.urlretrieve(imgUrl, f'train_dataset/{searchKey}/{searchKey}_{str(count)}@naver.jpg') # url을 \n",
    "        print(f'--{count}번째 이미지 저장 완료--')\n",
    "        count = count + 1\n",
    "    except Exception as e:\n",
    "        print('Error : ', e)\n",
    "        pass\n",
    "\n",
    "driver.close()"
   ]
  },
  {
   "cell_type": "code",
   "execution_count": 105,
   "metadata": {},
   "outputs": [],
   "source": [
    "driver.close()"
   ]
  },
  {
   "cell_type": "code",
   "execution_count": null,
   "metadata": {},
   "outputs": [],
   "source": []
  }
 ],
 "metadata": {
  "kernelspec": {
   "display_name": "base",
   "language": "python",
   "name": "python3"
  },
  "language_info": {
   "codemirror_mode": {
    "name": "ipython",
    "version": 3
   },
   "file_extension": ".py",
   "mimetype": "text/x-python",
   "name": "python",
   "nbconvert_exporter": "python",
   "pygments_lexer": "ipython3",
   "version": "3.11.4"
  },
  "orig_nbformat": 4
 },
 "nbformat": 4,
 "nbformat_minor": 2
}
